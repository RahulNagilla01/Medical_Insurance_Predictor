{
 "cells": [
  {
   "cell_type": "markdown",
   "id": "f3d2a3d2",
   "metadata": {
    "papermill": {
     "duration": 0.006695,
     "end_time": "2025-07-26T10:47:12.290094",
     "exception": false,
     "start_time": "2025-07-26T10:47:12.283399",
     "status": "completed"
    },
    "tags": []
   },
   "source": []
  },
  {
   "cell_type": "markdown",
   "id": "0aa6b663",
   "metadata": {
    "papermill": {
     "duration": 0.005425,
     "end_time": "2025-07-26T10:47:12.301418",
     "exception": false,
     "start_time": "2025-07-26T10:47:12.295993",
     "status": "completed"
    },
    "tags": []
   },
   "source": [
    "**Importing required Libraries**"
   ]
  },
  {
   "cell_type": "code",
   "execution_count": 1,
   "id": "0c339340",
   "metadata": {
    "execution": {
     "iopub.execute_input": "2025-07-26T10:47:12.314599Z",
     "iopub.status.busy": "2025-07-26T10:47:12.314156Z",
     "iopub.status.idle": "2025-07-26T10:47:17.108384Z",
     "shell.execute_reply": "2025-07-26T10:47:17.107324Z"
    },
    "papermill": {
     "duration": 4.803067,
     "end_time": "2025-07-26T10:47:17.110253",
     "exception": false,
     "start_time": "2025-07-26T10:47:12.307186",
     "status": "completed"
    },
    "tags": []
   },
   "outputs": [],
   "source": [
    "import numpy as np\n",
    "import pandas as pd\n",
    "import seaborn as sns\n",
    "import matplotlib.pyplot as plt\n",
    "from sklearn.model_selection import train_test_split\n",
    "from sklearn.linear_model import LinearRegression\n",
    "from sklearn import metrics"
   ]
  },
  {
   "cell_type": "markdown",
   "id": "e214c1fd",
   "metadata": {
    "papermill": {
     "duration": 0.005004,
     "end_time": "2025-07-26T10:47:17.120736",
     "exception": false,
     "start_time": "2025-07-26T10:47:17.115732",
     "status": "completed"
    },
    "tags": []
   },
   "source": [
    "**Data Analysis**"
   ]
  },
  {
   "cell_type": "code",
   "execution_count": 2,
   "id": "3238660a",
   "metadata": {
    "execution": {
     "iopub.execute_input": "2025-07-26T10:47:17.132210Z",
     "iopub.status.busy": "2025-07-26T10:47:17.131689Z",
     "iopub.status.idle": "2025-07-26T10:47:17.188414Z",
     "shell.execute_reply": "2025-07-26T10:47:17.187404Z"
    },
    "papermill": {
     "duration": 0.064731,
     "end_time": "2025-07-26T10:47:17.190389",
     "exception": false,
     "start_time": "2025-07-26T10:47:17.125658",
     "status": "completed"
    },
    "tags": []
   },
   "outputs": [
    {
     "name": "stdout",
     "output_type": "stream",
     "text": [
      "<class 'pandas.core.frame.DataFrame'>\n",
      "RangeIndex: 1338 entries, 0 to 1337\n",
      "Data columns (total 7 columns):\n",
      " #   Column    Non-Null Count  Dtype  \n",
      "---  ------    --------------  -----  \n",
      " 0   age       1338 non-null   int64  \n",
      " 1   sex       1338 non-null   object \n",
      " 2   bmi       1338 non-null   float64\n",
      " 3   children  1338 non-null   int64  \n",
      " 4   smoker    1338 non-null   object \n",
      " 5   region    1338 non-null   object \n",
      " 6   charges   1338 non-null   float64\n",
      "dtypes: float64(2), int64(2), object(3)\n",
      "memory usage: 73.3+ KB\n",
      "(rows, columns): (1338, 7)\n"
     ]
    }
   ],
   "source": [
    "medical_df = pd.read_csv('/kaggle/input/insurance/insurance.csv')\n",
    "medical_df.head()\n",
    "medical_df.info()\n",
    "print(\"(rows, columns):\", medical_df.shape)"
   ]
  },
  {
   "cell_type": "code",
   "execution_count": 3,
   "id": "10ceb411",
   "metadata": {
    "execution": {
     "iopub.execute_input": "2025-07-26T10:47:17.201992Z",
     "iopub.status.busy": "2025-07-26T10:47:17.201658Z",
     "iopub.status.idle": "2025-07-26T10:47:17.225863Z",
     "shell.execute_reply": "2025-07-26T10:47:17.224842Z"
    },
    "papermill": {
     "duration": 0.031847,
     "end_time": "2025-07-26T10:47:17.227435",
     "exception": false,
     "start_time": "2025-07-26T10:47:17.195588",
     "status": "completed"
    },
    "tags": []
   },
   "outputs": [
    {
     "data": {
      "text/html": [
       "<div>\n",
       "<style scoped>\n",
       "    .dataframe tbody tr th:only-of-type {\n",
       "        vertical-align: middle;\n",
       "    }\n",
       "\n",
       "    .dataframe tbody tr th {\n",
       "        vertical-align: top;\n",
       "    }\n",
       "\n",
       "    .dataframe thead th {\n",
       "        text-align: right;\n",
       "    }\n",
       "</style>\n",
       "<table border=\"1\" class=\"dataframe\">\n",
       "  <thead>\n",
       "    <tr style=\"text-align: right;\">\n",
       "      <th></th>\n",
       "      <th>age</th>\n",
       "      <th>sex</th>\n",
       "      <th>bmi</th>\n",
       "      <th>children</th>\n",
       "      <th>smoker</th>\n",
       "      <th>region</th>\n",
       "      <th>charges</th>\n",
       "    </tr>\n",
       "  </thead>\n",
       "  <tbody>\n",
       "    <tr>\n",
       "      <th>0</th>\n",
       "      <td>19</td>\n",
       "      <td>female</td>\n",
       "      <td>27.900</td>\n",
       "      <td>0</td>\n",
       "      <td>yes</td>\n",
       "      <td>southwest</td>\n",
       "      <td>16884.92400</td>\n",
       "    </tr>\n",
       "    <tr>\n",
       "      <th>1</th>\n",
       "      <td>18</td>\n",
       "      <td>male</td>\n",
       "      <td>33.770</td>\n",
       "      <td>1</td>\n",
       "      <td>no</td>\n",
       "      <td>southeast</td>\n",
       "      <td>1725.55230</td>\n",
       "    </tr>\n",
       "    <tr>\n",
       "      <th>2</th>\n",
       "      <td>28</td>\n",
       "      <td>male</td>\n",
       "      <td>33.000</td>\n",
       "      <td>3</td>\n",
       "      <td>no</td>\n",
       "      <td>southeast</td>\n",
       "      <td>4449.46200</td>\n",
       "    </tr>\n",
       "    <tr>\n",
       "      <th>3</th>\n",
       "      <td>33</td>\n",
       "      <td>male</td>\n",
       "      <td>22.705</td>\n",
       "      <td>0</td>\n",
       "      <td>no</td>\n",
       "      <td>northwest</td>\n",
       "      <td>21984.47061</td>\n",
       "    </tr>\n",
       "    <tr>\n",
       "      <th>4</th>\n",
       "      <td>32</td>\n",
       "      <td>male</td>\n",
       "      <td>28.880</td>\n",
       "      <td>0</td>\n",
       "      <td>no</td>\n",
       "      <td>northwest</td>\n",
       "      <td>3866.85520</td>\n",
       "    </tr>\n",
       "  </tbody>\n",
       "</table>\n",
       "</div>"
      ],
      "text/plain": [
       "   age     sex     bmi  children smoker     region      charges\n",
       "0   19  female  27.900         0    yes  southwest  16884.92400\n",
       "1   18    male  33.770         1     no  southeast   1725.55230\n",
       "2   28    male  33.000         3     no  southeast   4449.46200\n",
       "3   33    male  22.705         0     no  northwest  21984.47061\n",
       "4   32    male  28.880         0     no  northwest   3866.85520"
      ]
     },
     "execution_count": 3,
     "metadata": {},
     "output_type": "execute_result"
    }
   ],
   "source": [
    "medical_df.head()"
   ]
  },
  {
   "cell_type": "code",
   "execution_count": 4,
   "id": "44d3708a",
   "metadata": {
    "execution": {
     "iopub.execute_input": "2025-07-26T10:47:17.241663Z",
     "iopub.status.busy": "2025-07-26T10:47:17.241254Z",
     "iopub.status.idle": "2025-07-26T10:47:17.400155Z",
     "shell.execute_reply": "2025-07-26T10:47:17.398838Z"
    },
    "papermill": {
     "duration": 0.16805,
     "end_time": "2025-07-26T10:47:17.401756",
     "exception": true,
     "start_time": "2025-07-26T10:47:17.233706",
     "status": "failed"
    },
    "tags": []
   },
   "outputs": [
    {
     "name": "stdout",
     "output_type": "stream",
     "text": [
      "Intrested column: charges, other 6 are features\n"
     ]
    },
    {
     "ename": "NameError",
     "evalue": "name 'me' is not defined",
     "output_type": "error",
     "traceback": [
      "\u001b[0;31m---------------------------------------------------------------------------\u001b[0m",
      "\u001b[0;31mNameError\u001b[0m                                 Traceback (most recent call last)",
      "\u001b[0;32m/tmp/ipykernel_13/2338410288.py\u001b[0m in \u001b[0;36m<cell line: 0>\u001b[0;34m()\u001b[0m\n\u001b[1;32m      1\u001b[0m \u001b[0;31m#from above we can see that there is no null values\u001b[0m\u001b[0;34m\u001b[0m\u001b[0;34m\u001b[0m\u001b[0m\n\u001b[1;32m      2\u001b[0m \u001b[0mprint\u001b[0m\u001b[0;34m(\u001b[0m\u001b[0;34m'Intrested column: charges, other 6 are features'\u001b[0m\u001b[0;34m)\u001b[0m\u001b[0;34m\u001b[0m\u001b[0;34m\u001b[0m\u001b[0m\n\u001b[0;32m----> 3\u001b[0;31m \u001b[0mme\u001b[0m\u001b[0;34m\u001b[0m\u001b[0;34m\u001b[0m\u001b[0m\n\u001b[0m",
      "\u001b[0;31mNameError\u001b[0m: name 'me' is not defined"
     ]
    }
   ],
   "source": [
    "#from above we can see that there is no null values \n",
    "print('Intrested column: charges, other 6 are features')\n",
    "me"
   ]
  },
  {
   "cell_type": "markdown",
   "id": "d2980ce6",
   "metadata": {
    "papermill": {
     "duration": null,
     "end_time": null,
     "exception": null,
     "start_time": null,
     "status": "pending"
    },
    "tags": []
   },
   "source": [
    "Missing Values\n"
   ]
  },
  {
   "cell_type": "code",
   "execution_count": null,
   "id": "035d4810",
   "metadata": {
    "execution": {
     "iopub.status.busy": "2025-07-26T10:39:21.678754Z",
     "iopub.status.idle": "2025-07-26T10:39:21.679214Z",
     "shell.execute_reply": "2025-07-26T10:39:21.679029Z",
     "shell.execute_reply.started": "2025-07-26T10:39:21.679011Z"
    },
    "papermill": {
     "duration": null,
     "end_time": null,
     "exception": null,
     "start_time": null,
     "status": "pending"
    },
    "tags": []
   },
   "outputs": [],
   "source": [
    "medical_df.isnull().sum()"
   ]
  },
  {
   "cell_type": "code",
   "execution_count": null,
   "id": "e3c54f5e",
   "metadata": {
    "execution": {
     "iopub.status.busy": "2025-07-26T10:39:21.680791Z",
     "iopub.status.idle": "2025-07-26T10:39:21.681826Z",
     "shell.execute_reply": "2025-07-26T10:39:21.681619Z",
     "shell.execute_reply.started": "2025-07-26T10:39:21.681598Z"
    },
    "papermill": {
     "duration": null,
     "end_time": null,
     "exception": null,
     "start_time": null,
     "status": "pending"
    },
    "tags": []
   },
   "outputs": [],
   "source": [
    "medical_df.describe()"
   ]
  },
  {
   "cell_type": "code",
   "execution_count": null,
   "id": "cca28cf4",
   "metadata": {
    "execution": {
     "iopub.status.busy": "2025-07-26T10:39:21.682462Z",
     "iopub.status.idle": "2025-07-26T10:39:21.682821Z",
     "shell.execute_reply": "2025-07-26T10:39:21.682647Z",
     "shell.execute_reply.started": "2025-07-26T10:39:21.682629Z"
    },
    "papermill": {
     "duration": null,
     "end_time": null,
     "exception": null,
     "start_time": null,
     "status": "pending"
    },
    "tags": []
   },
   "outputs": [],
   "source": [
    "sns.set()\n",
    "plt.figure(figsize= (6,6))\n",
    "sns.distplot(medical_df['age'])\n",
    "plt.title('Age distribution')\n",
    "plt.show()"
   ]
  },
  {
   "cell_type": "code",
   "execution_count": null,
   "id": "3dee6e27",
   "metadata": {
    "execution": {
     "iopub.status.busy": "2025-07-26T10:39:21.684705Z",
     "iopub.status.idle": "2025-07-26T10:39:21.685118Z",
     "shell.execute_reply": "2025-07-26T10:39:21.684936Z",
     "shell.execute_reply.started": "2025-07-26T10:39:21.684915Z"
    },
    "papermill": {
     "duration": null,
     "end_time": null,
     "exception": null,
     "start_time": null,
     "status": "pending"
    },
    "tags": []
   },
   "outputs": [],
   "source": [
    "sns.countplot(data=medical_df, x='sex')\n",
    "plt.show()\n",
    "medical_df['sex'].value_counts()"
   ]
  },
  {
   "cell_type": "markdown",
   "id": "1835d060",
   "metadata": {
    "papermill": {
     "duration": null,
     "end_time": null,
     "exception": null,
     "start_time": null,
     "status": "pending"
    },
    "tags": []
   },
   "source": [
    "Almost same number of male and female in the data"
   ]
  },
  {
   "cell_type": "code",
   "execution_count": null,
   "id": "f439a795",
   "metadata": {
    "execution": {
     "iopub.status.busy": "2025-07-26T10:39:21.685734Z",
     "iopub.status.idle": "2025-07-26T10:39:21.686102Z",
     "shell.execute_reply": "2025-07-26T10:39:21.685928Z",
     "shell.execute_reply.started": "2025-07-26T10:39:21.685910Z"
    },
    "papermill": {
     "duration": null,
     "end_time": null,
     "exception": null,
     "start_time": null,
     "status": "pending"
    },
    "tags": []
   },
   "outputs": [],
   "source": [
    "#bmi distribution\n",
    "plt.figure(figsize= (6,6))\n",
    "sns.distplot(medical_df['bmi'])\n",
    "plt.title('BMI distribution')\n",
    "plt.show()"
   ]
  },
  {
   "cell_type": "markdown",
   "id": "486548b2",
   "metadata": {
    "papermill": {
     "duration": null,
     "end_time": null,
     "exception": null,
     "start_time": null,
     "status": "pending"
    },
    "tags": []
   },
   "source": [
    "Normal Distribution, BMI range = [18.5, 24.9] this can effect the insurance charge as we see most of them are beyong 24.9 i.e overweight"
   ]
  },
  {
   "cell_type": "code",
   "execution_count": null,
   "id": "85cb96eb",
   "metadata": {
    "execution": {
     "iopub.status.busy": "2025-07-26T10:39:21.686655Z",
     "iopub.status.idle": "2025-07-26T10:39:21.687369Z",
     "shell.execute_reply": "2025-07-26T10:39:21.686835Z",
     "shell.execute_reply.started": "2025-07-26T10:39:21.686818Z"
    },
    "papermill": {
     "duration": null,
     "end_time": null,
     "exception": null,
     "start_time": null,
     "status": "pending"
    },
    "tags": []
   },
   "outputs": [],
   "source": [
    "sns.countplot(data= medical_df, x='children')\n",
    "plt.show()\n",
    "medical_df['children'].value_counts()"
   ]
  },
  {
   "cell_type": "code",
   "execution_count": null,
   "id": "4be9bad3",
   "metadata": {
    "execution": {
     "iopub.status.busy": "2025-07-26T10:39:21.687971Z",
     "iopub.status.idle": "2025-07-26T10:39:21.688365Z",
     "shell.execute_reply": "2025-07-26T10:39:21.688170Z",
     "shell.execute_reply.started": "2025-07-26T10:39:21.688141Z"
    },
    "papermill": {
     "duration": null,
     "end_time": null,
     "exception": null,
     "start_time": null,
     "status": "pending"
    },
    "tags": []
   },
   "outputs": [],
   "source": [
    "#smoker column \n",
    "sns.countplot(data= medical_df, x='smoker')\n",
    "plt.show()\n",
    "medical_df['smoker'].value_counts()"
   ]
  },
  {
   "cell_type": "code",
   "execution_count": null,
   "id": "5ac07147",
   "metadata": {
    "execution": {
     "iopub.status.busy": "2025-07-26T10:39:21.689333Z",
     "iopub.status.idle": "2025-07-26T10:39:21.689686Z",
     "shell.execute_reply": "2025-07-26T10:39:21.689521Z",
     "shell.execute_reply.started": "2025-07-26T10:39:21.689504Z"
    },
    "papermill": {
     "duration": null,
     "end_time": null,
     "exception": null,
     "start_time": null,
     "status": "pending"
    },
    "tags": []
   },
   "outputs": [],
   "source": [
    "sns.countplot(data= medical_df, x='region')\n",
    "plt.show()\n",
    "medical_df['region'].value_counts()"
   ]
  },
  {
   "cell_type": "markdown",
   "id": "90cafda5",
   "metadata": {
    "papermill": {
     "duration": null,
     "end_time": null,
     "exception": null,
     "start_time": null,
     "status": "pending"
    },
    "tags": []
   },
   "source": []
  },
  {
   "cell_type": "markdown",
   "id": "83587930",
   "metadata": {
    "papermill": {
     "duration": null,
     "end_time": null,
     "exception": null,
     "start_time": null,
     "status": "pending"
    },
    "tags": []
   },
   "source": [
    "\n",
    "**Distribution of charges**\n"
   ]
  },
  {
   "cell_type": "code",
   "execution_count": null,
   "id": "62b8cf46",
   "metadata": {
    "execution": {
     "iopub.status.busy": "2025-07-26T10:39:21.690241Z",
     "iopub.status.idle": "2025-07-26T10:39:21.690606Z",
     "shell.execute_reply": "2025-07-26T10:39:21.690443Z",
     "shell.execute_reply.started": "2025-07-26T10:39:21.690426Z"
    },
    "papermill": {
     "duration": null,
     "end_time": null,
     "exception": null,
     "start_time": null,
     "status": "pending"
    },
    "tags": []
   },
   "outputs": [],
   "source": [
    "plt.figure(figsize= (6,6))\n",
    "sns.distplot(medical_df['charges'])\n",
    "plt.title('charges distribution')\n",
    "plt.show()"
   ]
  },
  {
   "cell_type": "markdown",
   "id": "b0d1bc53",
   "metadata": {
    "papermill": {
     "duration": null,
     "end_time": null,
     "exception": null,
     "start_time": null,
     "status": "pending"
    },
    "tags": []
   },
   "source": [
    "**DATA PREPROCESSING**"
   ]
  },
  {
   "cell_type": "code",
   "execution_count": null,
   "id": "5fede02f",
   "metadata": {
    "execution": {
     "iopub.status.busy": "2025-07-26T10:39:21.693923Z",
     "iopub.status.idle": "2025-07-26T10:39:21.694462Z",
     "shell.execute_reply": "2025-07-26T10:39:21.694272Z",
     "shell.execute_reply.started": "2025-07-26T10:39:21.694235Z"
    },
    "papermill": {
     "duration": null,
     "end_time": null,
     "exception": null,
     "start_time": null,
     "status": "pending"
    },
    "tags": []
   },
   "outputs": [],
   "source": [
    "#creating classes, Encoding categorical features\n",
    "#Encoding sex column\n",
    "medical_df.replace({'sex' : {'male':0,'female':1}}, inplace = True)\n",
    "#encoding smoking column\n",
    "medical_df.replace({'smoker': {'yes':0, 'no':1}}, inplace = True)\n",
    "\n",
    "#encoding region\n",
    "medical_df.replace({'region': {'southeast':0,'southwest':1, 'northeast':2, 'northwest':3}}, inplace = True)"
   ]
  },
  {
   "cell_type": "markdown",
   "id": "bcc4dd54",
   "metadata": {
    "papermill": {
     "duration": null,
     "end_time": null,
     "exception": null,
     "start_time": null,
     "status": "pending"
    },
    "tags": []
   },
   "source": [
    "splitting the features and target"
   ]
  },
  {
   "cell_type": "code",
   "execution_count": null,
   "id": "4cffeeca",
   "metadata": {
    "execution": {
     "iopub.status.busy": "2025-07-26T10:39:21.695203Z",
     "iopub.status.idle": "2025-07-26T10:39:21.695634Z",
     "shell.execute_reply": "2025-07-26T10:39:21.695415Z",
     "shell.execute_reply.started": "2025-07-26T10:39:21.695398Z"
    },
    "papermill": {
     "duration": null,
     "end_time": null,
     "exception": null,
     "start_time": null,
     "status": "pending"
    },
    "tags": []
   },
   "outputs": [],
   "source": [
    "x = medical_df.drop(columns = 'charges', axis=1)\n",
    "y = medical_df['charges']\n"
   ]
  },
  {
   "cell_type": "code",
   "execution_count": null,
   "id": "5f269322",
   "metadata": {
    "execution": {
     "iopub.status.busy": "2025-07-26T10:39:21.696738Z",
     "iopub.status.idle": "2025-07-26T10:39:21.697463Z",
     "shell.execute_reply": "2025-07-26T10:39:21.697098Z",
     "shell.execute_reply.started": "2025-07-26T10:39:21.697038Z"
    },
    "papermill": {
     "duration": null,
     "end_time": null,
     "exception": null,
     "start_time": null,
     "status": "pending"
    },
    "tags": []
   },
   "outputs": [],
   "source": [
    "#splitting data to train and test\n",
    "X_train, X_test, Y_train, Y_test = train_test_split(x,y, test_size=.2, random_state=2)\n",
    "print(x.shape, X_train.shape, X_test.shape)"
   ]
  },
  {
   "cell_type": "code",
   "execution_count": null,
   "id": "64b4cc8b",
   "metadata": {
    "execution": {
     "iopub.status.busy": "2025-07-26T10:39:21.701449Z",
     "iopub.status.idle": "2025-07-26T10:39:21.701846Z",
     "shell.execute_reply": "2025-07-26T10:39:21.701670Z",
     "shell.execute_reply.started": "2025-07-26T10:39:21.701651Z"
    },
    "papermill": {
     "duration": null,
     "end_time": null,
     "exception": null,
     "start_time": null,
     "status": "pending"
    },
    "tags": []
   },
   "outputs": [],
   "source": [
    "#Loading linear regression model\n",
    "model = LinearRegression()"
   ]
  },
  {
   "cell_type": "code",
   "execution_count": null,
   "id": "9d029f65",
   "metadata": {
    "execution": {
     "iopub.status.busy": "2025-07-26T10:39:21.702427Z",
     "iopub.status.idle": "2025-07-26T10:39:21.702768Z",
     "shell.execute_reply": "2025-07-26T10:39:21.702599Z",
     "shell.execute_reply.started": "2025-07-26T10:39:21.702584Z"
    },
    "papermill": {
     "duration": null,
     "end_time": null,
     "exception": null,
     "start_time": null,
     "status": "pending"
    },
    "tags": []
   },
   "outputs": [],
   "source": [
    "model.fit(X_train, Y_train)"
   ]
  },
  {
   "cell_type": "markdown",
   "id": "0c91b544",
   "metadata": {
    "papermill": {
     "duration": null,
     "end_time": null,
     "exception": null,
     "start_time": null,
     "status": "pending"
    },
    "tags": []
   },
   "source": [
    "Model evaluation"
   ]
  },
  {
   "cell_type": "code",
   "execution_count": null,
   "id": "edbe936a",
   "metadata": {
    "execution": {
     "iopub.status.busy": "2025-07-26T10:39:21.703439Z",
     "iopub.status.idle": "2025-07-26T10:39:21.704986Z",
     "shell.execute_reply": "2025-07-26T10:39:21.704793Z",
     "shell.execute_reply.started": "2025-07-26T10:39:21.704772Z"
    },
    "papermill": {
     "duration": null,
     "end_time": null,
     "exception": null,
     "start_time": null,
     "status": "pending"
    },
    "tags": []
   },
   "outputs": [],
   "source": [
    "#predicition on training data\n",
    "training_data_prediction = model.predict(X_train)\n",
    "test_data_prediction = model.predict(X_test)"
   ]
  },
  {
   "cell_type": "code",
   "execution_count": null,
   "id": "27d335ab",
   "metadata": {
    "execution": {
     "iopub.status.busy": "2025-07-26T10:39:21.706238Z",
     "iopub.status.idle": "2025-07-26T10:39:21.706617Z",
     "shell.execute_reply": "2025-07-26T10:39:21.706448Z",
     "shell.execute_reply.started": "2025-07-26T10:39:21.706430Z"
    },
    "papermill": {
     "duration": null,
     "end_time": null,
     "exception": null,
     "start_time": null,
     "status": "pending"
    },
    "tags": []
   },
   "outputs": [],
   "source": [
    "#R squared value 0 to 1\n",
    "r2_train = metrics.r2_score(Y_train, training_data_prediction) \n",
    "print(\"R squared value of train \" ,r2_train)"
   ]
  },
  {
   "cell_type": "code",
   "execution_count": null,
   "id": "6b736cb5",
   "metadata": {
    "execution": {
     "iopub.status.busy": "2025-07-26T10:39:21.707190Z",
     "iopub.status.idle": "2025-07-26T10:39:21.707559Z",
     "shell.execute_reply": "2025-07-26T10:39:21.707392Z",
     "shell.execute_reply.started": "2025-07-26T10:39:21.707375Z"
    },
    "papermill": {
     "duration": null,
     "end_time": null,
     "exception": null,
     "start_time": null,
     "status": "pending"
    },
    "tags": []
   },
   "outputs": [],
   "source": [
    "r2_test = metrics.r2_score(Y_test, test_data_prediction) \n",
    "print(\"R squared value of test \" ,r2_test)\n",
    "#No, overfitting issue here as r2 for test, train almost equal\n",
    "#\n",
    "4449.462"
   ]
  },
  {
   "cell_type": "markdown",
   "id": "98398592",
   "metadata": {
    "papermill": {
     "duration": null,
     "end_time": null,
     "exception": null,
     "start_time": null,
     "status": "pending"
    },
    "tags": []
   },
   "source": [
    "Building Prediction system"
   ]
  },
  {
   "cell_type": "code",
   "execution_count": null,
   "id": "03727d6a",
   "metadata": {
    "execution": {
     "iopub.status.busy": "2025-07-26T10:39:21.708071Z",
     "iopub.status.idle": "2025-07-26T10:39:21.708583Z",
     "shell.execute_reply": "2025-07-26T10:39:21.708407Z",
     "shell.execute_reply.started": "2025-07-26T10:39:21.708243Z"
    },
    "papermill": {
     "duration": null,
     "end_time": null,
     "exception": null,
     "start_time": null,
     "status": "pending"
    },
    "tags": []
   },
   "outputs": [],
   "source": [
    "data = (28,0,33,3,1,0) # 28 male 33 3 no southeast\n",
    "input_data = np.asarray(data)\n",
    "reshaped_data = input_data.reshape(1,-1)\n",
    "prediction = model.predict(reshaped_data)\n",
    "print(prediction)\n"
   ]
  }
 ],
 "metadata": {
  "kaggle": {
   "accelerator": "none",
   "dataSources": [
    {
     "datasetId": 13720,
     "sourceId": 18513,
     "sourceType": "datasetVersion"
    }
   ],
   "dockerImageVersionId": 31089,
   "isGpuEnabled": false,
   "isInternetEnabled": false,
   "language": "python",
   "sourceType": "notebook"
  },
  "kernelspec": {
   "display_name": "Python 3",
   "language": "python",
   "name": "python3"
  },
  "language_info": {
   "codemirror_mode": {
    "name": "ipython",
    "version": 3
   },
   "file_extension": ".py",
   "mimetype": "text/x-python",
   "name": "python",
   "nbconvert_exporter": "python",
   "pygments_lexer": "ipython3",
   "version": "3.11.13"
  },
  "papermill": {
   "default_parameters": {},
   "duration": 11.148437,
   "end_time": "2025-07-26T10:47:18.130745",
   "environment_variables": {},
   "exception": true,
   "input_path": "__notebook__.ipynb",
   "output_path": "__notebook__.ipynb",
   "parameters": {},
   "start_time": "2025-07-26T10:47:06.982308",
   "version": "2.6.0"
  }
 },
 "nbformat": 4,
 "nbformat_minor": 5
}
